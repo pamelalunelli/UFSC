{
 "cells": [
  {
   "cell_type": "code",
   "execution_count": 9,
   "id": "1afc3cda",
   "metadata": {},
   "outputs": [],
   "source": [
    "# pip install psycopg2\n",
    "# pip show psycopg2\n"
   ]
  },
  {
   "cell_type": "code",
   "execution_count": 10,
   "id": "cbe01986",
   "metadata": {},
   "outputs": [],
   "source": [
    "# Importação de bibliotecas\n",
    "import psycopg2\n",
    "\n",
    "# Parâmetros de conexão\n",
    "host = 'localhost'\n",
    "port = 5432\n",
    "database = 'transporte_coletivo'\n",
    "user = 'postgres'\n",
    "password = '123456789'"
   ]
  },
  {
   "cell_type": "code",
   "execution_count": 11,
   "id": "33b381a4",
   "metadata": {},
   "outputs": [],
   "source": [
    "# Função para abrir conexão com o BD\n",
    "def abre_conexao():\n",
    "    conexao = psycopg2.connect(\n",
    "        host=host,\n",
    "        port=port,\n",
    "        database=database,\n",
    "        user=user,\n",
    "        password=password\n",
    "    )\n",
    "    cursor = conexao.cursor()\n",
    "    \n",
    "    return conexao, cursor"
   ]
  },
  {
   "cell_type": "code",
   "execution_count": 12,
   "id": "f3792f9a",
   "metadata": {},
   "outputs": [],
   "source": [
    "# Função para fechar conexão com o BD\n",
    "def fecha_conexao(conexao, cursor):\n",
    "    cursor.close()\n",
    "    conexao.close()"
   ]
  },
  {
   "cell_type": "code",
   "execution_count": 13,
   "id": "68338e60",
   "metadata": {},
   "outputs": [],
   "source": [
    "# Função para criar esquema\n",
    "def cria_esquema(sql):\n",
    "    \n",
    "    conexao, cursor = abre_conexao()\n",
    "    cursor.execute(sql)\n",
    "    conexao.commit()\n",
    "    fecha_conexao(conexao, cursor)"
   ]
  },
  {
   "cell_type": "code",
   "execution_count": 15,
   "id": "ea92799b",
   "metadata": {},
   "outputs": [],
   "source": [
    "# Função para criar tabela\n",
    "def cria_esquema(sql):\n",
    "    \n",
    "    conexao, cursor = abre_conexao()\n",
    "    cursor.execute(sql)\n",
    "    conexao.commit()\n",
    "    fecha_conexao(conexao, cursor)"
   ]
  },
  {
   "cell_type": "code",
   "execution_count": 14,
   "id": "a1d76650",
   "metadata": {},
   "outputs": [],
   "source": [
    "# Função para executar consulta\n",
    "def executa_consulta(sql):\n",
    "    \n",
    "    conexao, cursor = abre_conexao()\n",
    "    cursor.execute(sql)\n",
    "    resultado = cursor.fetchall()\n",
    "    fecha_conexao(conexao, cursor)\n",
    "    \n",
    "    return resultado"
   ]
  },
  {
   "cell_type": "code",
   "execution_count": 16,
   "id": "dfc493cd",
   "metadata": {},
   "outputs": [
    {
     "name": "stdout",
     "output_type": "stream",
     "text": [
      "(1, 'Criciúma', 4.5)\n",
      "(2, 'Içara', 4.0)\n",
      "(3, 'Forquilhinha', 3.75)\n",
      "(4, 'Araranguá', 4.2)\n",
      "(5, 'Morro da Fumaça', 3.9)\n"
     ]
    }
   ],
   "source": [
    "# # Exemplo de consulta\n",
    "# consulta = \"SELECT * FROM rodoviario.MUNICIPIO\"\n",
    "# resultados = executa_consulta(consulta)\n",
    "\n",
    "# # Exibir os resultados\n",
    "# for resultado in resultados:\n",
    "#     print(resultado)\n",
    "    \n",
    "# # # Executar a instrução SQL para criar o esquema\n",
    "# create_schema_query = f\"CREATE SCHEMA oioioi;\"\n",
    "# cria_esquema(create_schema_query)"
   ]
  },
  {
   "cell_type": "code",
   "execution_count": 17,
   "id": "7b43a5ba",
   "metadata": {},
   "outputs": [
    {
     "ename": "DuplicateSchema",
     "evalue": "schema \"oioioi\" already exists\n",
     "output_type": "error",
     "traceback": [
      "\u001b[1;31m---------------------------------------------------------------------------\u001b[0m",
      "\u001b[1;31mDuplicateSchema\u001b[0m                           Traceback (most recent call last)",
      "Cell \u001b[1;32mIn[17], line 3\u001b[0m\n\u001b[0;32m      1\u001b[0m \u001b[38;5;66;03m# # Executar a instrução SQL para criar o esquema\u001b[39;00m\n\u001b[0;32m      2\u001b[0m create_schema_query \u001b[38;5;241m=\u001b[39m \u001b[38;5;124mf\u001b[39m\u001b[38;5;124m\"\u001b[39m\u001b[38;5;124mCREATE SCHEMA oioioi;\u001b[39m\u001b[38;5;124m\"\u001b[39m\n\u001b[1;32m----> 3\u001b[0m \u001b[43mcria_esquema\u001b[49m\u001b[43m(\u001b[49m\u001b[43mcreate_schema_query\u001b[49m\u001b[43m)\u001b[49m\n",
      "Cell \u001b[1;32mIn[13], line 5\u001b[0m, in \u001b[0;36mcria_esquema\u001b[1;34m(sql)\u001b[0m\n\u001b[0;32m      2\u001b[0m \u001b[38;5;28;01mdef\u001b[39;00m \u001b[38;5;21mcria_esquema\u001b[39m(sql):\n\u001b[0;32m      4\u001b[0m     conexao, cursor \u001b[38;5;241m=\u001b[39m abre_conexao()\n\u001b[1;32m----> 5\u001b[0m     \u001b[43mcursor\u001b[49m\u001b[38;5;241;43m.\u001b[39;49m\u001b[43mexecute\u001b[49m\u001b[43m(\u001b[49m\u001b[43msql\u001b[49m\u001b[43m)\u001b[49m\n\u001b[0;32m      6\u001b[0m     conexao\u001b[38;5;241m.\u001b[39mcommit()\n\u001b[0;32m      7\u001b[0m     fecha_conexao(conexao, cursor)\n",
      "\u001b[1;31mDuplicateSchema\u001b[0m: schema \"oioioi\" already exists\n"
     ]
    }
   ],
   "source": []
  },
  {
   "cell_type": "code",
   "execution_count": null,
   "id": "b19d2ee0",
   "metadata": {},
   "outputs": [],
   "source": []
  },
  {
   "cell_type": "code",
   "execution_count": null,
   "id": "770024df",
   "metadata": {},
   "outputs": [],
   "source": []
  },
  {
   "cell_type": "code",
   "execution_count": null,
   "id": "c01bfe36",
   "metadata": {},
   "outputs": [],
   "source": []
  },
  {
   "cell_type": "code",
   "execution_count": null,
   "id": "632a68ff",
   "metadata": {},
   "outputs": [],
   "source": []
  },
  {
   "cell_type": "code",
   "execution_count": null,
   "id": "526e0e8c",
   "metadata": {},
   "outputs": [],
   "source": []
  },
  {
   "cell_type": "code",
   "execution_count": null,
   "id": "182ea313",
   "metadata": {},
   "outputs": [],
   "source": []
  },
  {
   "cell_type": "code",
   "execution_count": null,
   "id": "0e733158",
   "metadata": {},
   "outputs": [],
   "source": []
  },
  {
   "cell_type": "code",
   "execution_count": null,
   "id": "09fec4d5",
   "metadata": {},
   "outputs": [],
   "source": []
  }
 ],
 "metadata": {
  "kernelspec": {
   "display_name": "Python 3 (ipykernel)",
   "language": "python",
   "name": "python3"
  },
  "language_info": {
   "codemirror_mode": {
    "name": "ipython",
    "version": 3
   },
   "file_extension": ".py",
   "mimetype": "text/x-python",
   "name": "python",
   "nbconvert_exporter": "python",
   "pygments_lexer": "ipython3",
   "version": "3.10.9"
  }
 },
 "nbformat": 4,
 "nbformat_minor": 5
}
