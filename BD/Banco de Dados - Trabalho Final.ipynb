{
 "cells": [
  {
   "cell_type": "code",
   "execution_count": 1,
   "id": "cbe01986",
   "metadata": {},
   "outputs": [],
   "source": [
    "# Importação de bibliotecas\n",
    "import psycopg2\n",
    "from getpass import getpass\n",
    "\n",
    "# Parâmetros de conexão\n",
    "host = 'localhost'\n",
    "port = 5432\n",
    "database = 'transporte_coletivo'\n",
    "user = 'postgres'\n",
    "password = '123456789'"
   ]
  },
  {
   "cell_type": "code",
   "execution_count": 2,
   "id": "33b381a4",
   "metadata": {},
   "outputs": [],
   "source": [
    "# Função para abrir conexão com o BD\n",
    "def abre_conexao():\n",
    "    \n",
    "    conexao = psycopg2.connect(\n",
    "        host=host,\n",
    "        port=port,\n",
    "        database=database,\n",
    "        user=user,\n",
    "        password=password\n",
    "    )\n",
    "    cursor = conexao.cursor()\n",
    "    \n",
    "    return conexao, cursor"
   ]
  },
  {
   "cell_type": "code",
   "execution_count": 3,
   "id": "f3792f9a",
   "metadata": {},
   "outputs": [],
   "source": [
    "# Função para fechar conexão com o BD\n",
    "def fecha_conexao(conexao, cursor):\n",
    "    \n",
    "    cursor.close()\n",
    "    conexao.close()"
   ]
  },
  {
   "cell_type": "code",
   "execution_count": 4,
   "id": "68338e60",
   "metadata": {},
   "outputs": [],
   "source": [
    "# Função para criar esquema\n",
    "def cria_esquema():\n",
    "    \n",
    "    conexao, cursor = abre_conexao()\n",
    "    cursor.execute(f\"CREATE SCHEMA RODOVIARIO;\")\n",
    "    conexao.commit()\n",
    "    fecha_conexao(conexao, cursor)\n",
    "    \n",
    "    return print(\"Esquema criado com sucesso!\")\n",
    "#cria_esquema('rodoviario')"
   ]
  },
  {
   "cell_type": "code",
   "execution_count": 5,
   "id": "5faf68a0",
   "metadata": {},
   "outputs": [],
   "source": [
    "def exclui_esquema():\n",
    "    \n",
    "    conexao, cursor = abre_conexao()\n",
    "    cursor.execute(f\"DROP SCHEMA IF EXISTS RODOVIARIO CASCADE;\")\n",
    "    conexao.commit()\n",
    "    cursor.close()\n",
    "    fecha_conexao(conexao, cursor)\n",
    "\n",
    "    return print(\"Esquema excluído com sucesso!\")\n",
    "\n",
    "#exclui_esquema('rodoviario')"
   ]
  },
  {
   "cell_type": "code",
   "execution_count": 6,
   "id": "b19d2ee0",
   "metadata": {},
   "outputs": [],
   "source": [
    "# Função para criar a estrutura de tabelas\n",
    "def cria_todas_tabelas():\n",
    "\n",
    "    conexao, cursor = abre_conexao()\n",
    "\n",
    "    diretorio = r'C:\\Users\\pamel\\OneDrive\\Documentos\\Estudos\\UFSC\\4º Semestre\\Banco de Dados\\cria_banco.sql'\n",
    "    with open(diretorio, 'r') as arquivo:\n",
    "        consultas = arquivo.read().split(';')\n",
    "\n",
    "    for consulta in consultas:\n",
    "        if consulta.strip():\n",
    "            cursor.execute(consulta)\n",
    "\n",
    "    conexao.commit()\n",
    "    fecha_conexao(conexao, cursor)\n",
    "\n",
    "    return print(\"Tabelas criadas com sucesso!\")"
   ]
  },
  {
   "cell_type": "code",
   "execution_count": 7,
   "id": "41a0254a",
   "metadata": {},
   "outputs": [],
   "source": [
    "def popula_todas_tabelas():\n",
    "\n",
    "    conexao, cursor = abre_conexao()\n",
    "\n",
    "    diretorio = r'C:\\Users\\pamel\\OneDrive\\Documentos\\Estudos\\UFSC\\4º Semestre\\Banco de Dados\\popula_banco.sql'\n",
    "    with open(diretorio, 'r') as arquivo:\n",
    "        consultas = arquivo.read().split(';')\n",
    "\n",
    "    for consulta in consultas:\n",
    "        if consulta.strip():\n",
    "            cursor.execute(consulta)\n",
    "\n",
    "    conexao.commit()\n",
    "    fecha_conexao(conexao, cursor)\n",
    "    \n",
    "    return print(\"Tabelas populadas com sucesso!\")"
   ]
  },
  {
   "cell_type": "code",
   "execution_count": 8,
   "id": "181edcec",
   "metadata": {},
   "outputs": [],
   "source": [
    "def recupera_tabelas():\n",
    "    \n",
    "    conexao, cursor = abre_conexao()\n",
    "\n",
    "    cursor.execute(f\"SELECT table_name FROM information_schema.tables WHERE table_schema='rodoviario';\")\n",
    "    tabelas = cursor.fetchall()\n",
    "   \n",
    "    nomes_tabelas = [tabela[0] for tabela in tabelas]\n",
    "    \n",
    "    return nomes_tabelas"
   ]
  },
  {
   "cell_type": "code",
   "execution_count": 9,
   "id": "f03405f2",
   "metadata": {},
   "outputs": [],
   "source": [
    "def exclui_todas_tabelas():\n",
    "     \n",
    "    conexao, cursor = abre_conexao()\n",
    "\n",
    "    nomes_tabelas = recupera_tabelas()\n",
    "    \n",
    "    for nome_tabela in nomes_tabelas:\n",
    "        cursor.execute(f\"DROP TABLE IF EXISTS rodoviario.{nome_tabela} CASCADE;\")\n",
    "        #print(nome_tabela)\n",
    "\n",
    "    conexao.commit()\n",
    "    fecha_conexao(conexao, cursor)\n",
    "    \n",
    "    return print(\"Tabelas excluídas com sucesso!\")"
   ]
  },
  {
   "cell_type": "code",
   "execution_count": 10,
   "id": "632a68ff",
   "metadata": {},
   "outputs": [],
   "source": [
    "def deleta_bd_completo ():\n",
    "    \n",
    "    exclui_todas_tabelas()\n",
    "    exclui_esquema()"
   ]
  },
  {
   "cell_type": "code",
   "execution_count": 11,
   "id": "526e0e8c",
   "metadata": {},
   "outputs": [],
   "source": [
    "def cria_bd_completo ():\n",
    "    \n",
    "    cria_esquema()\n",
    "    cria_todas_tabelas()\n",
    "    popula_todas_tabelas()"
   ]
  },
  {
   "cell_type": "code",
   "execution_count": 12,
   "id": "32238a1d",
   "metadata": {},
   "outputs": [],
   "source": [
    "def atualiza_tabela():\n",
    "\n",
    "    conexao, cursor = abre_conexao()\n",
    "\n",
    "    tabelas = recupera_tabelas()\n",
    "\n",
    "    print(\"Qual tabela deseja atualizar?\")\n",
    "\n",
    "    menu = {}\n",
    "    for i, valor in enumerate(tabelas):\n",
    "        valor_formatado = valor.capitalize().replace(\"_\", \" \")\n",
    "        menu[i] = valor_formatado\n",
    "        print(f\"{i}: {valor_formatado}\")\n",
    "    \n",
    "    escolha = getpass(\"Digite o identificador:\")\n",
    "    while not escolha.isdigit() or int(escolha) not in menu:\n",
    "        print(\"Escolha inválida. Tente novamente.\")\n",
    "        escolha = getpass(\"Digite o identificador:\")\n",
    "    escolha = int(escolha)\n",
    "    \n",
    "    print(menu[int(escolha)])\n",
    "    #cursor.execute(f\"SELECT column_name FROM information_schema.columns WHERE table_name = '{menu[int(escolha)]}';\")\n",
    "\n",
    "    conexao.commit()\n",
    "    fecha_conexao(conexao, cursor)\n",
    "\n",
    "    "
   ]
  },
  {
   "cell_type": "code",
   "execution_count": 13,
   "id": "182ea313",
   "metadata": {},
   "outputs": [
    {
     "name": "stdout",
     "output_type": "stream",
     "text": [
      "Qual tabela deseja atualizar?\n",
      "0: Municipio\n",
      "1: Terminal\n",
      "2: Veiculo\n",
      "3: Motorista\n",
      "4: Itinerario\n",
      "5: Empresa\n",
      "6: Tipo onibus\n",
      "7: Linha\n",
      "8: Linha parada\n",
      "9: Parada\n",
      "10: Meio pagamento\n",
      "11: Meio pagamento terminal\n",
      "12: Conexao\n",
      "13: Linha parada itinerario\n",
      "Escolha inválida. Tente novamente.\n",
      "Escolha inválida. Tente novamente.\n",
      "Escolha inválida. Tente novamente.\n"
     ]
    }
   ],
   "source": [
    "#cria_bd_completo ()\n",
    "#deleta_bd_completo ()\n",
    "atualiza_tabela()"
   ]
  },
  {
   "cell_type": "code",
   "execution_count": 1,
   "id": "0a94a360",
   "metadata": {},
   "outputs": [
    {
     "ename": "SyntaxError",
     "evalue": "invalid syntax (2438828721.py, line 3)",
     "output_type": "error",
     "traceback": [
      "\u001b[1;36m  Cell \u001b[1;32mIn[1], line 3\u001b[1;36m\u001b[0m\n\u001b[1;33m    UPDATE EM TABELAS\u001b[0m\n\u001b[1;37m           ^\u001b[0m\n\u001b[1;31mSyntaxError\u001b[0m\u001b[1;31m:\u001b[0m invalid syntax\n"
     ]
    }
   ],
   "source": [
    "#!!!!!!!!!Faltam!!!!!!!!!!\n",
    "\n",
    "# - UPDATE EM TABELAS\n",
    "# - INSERÇÕES EM TABELAS ESPECÍFICAS\n",
    "# - EXCLUSOES EM TABELAS ESPECÍFICAS\n",
    "# - INSERÇOES DE TABELAS\n",
    "# - EXCLUSOES DE TABELAS ESPECÍFICAS\n",
    "# - CONSULTA 1\n",
    "# - CONSULTA 2\n",
    "# - CONSULTA 3\n",
    "# GRÁFICOS"
   ]
  },
  {
   "cell_type": "code",
   "execution_count": null,
   "id": "0e733158",
   "metadata": {},
   "outputs": [],
   "source": [
    "# # Função para executar consulta\n",
    "# def executa_consulta(sql):\n",
    "    \n",
    "#     conexao, cursor = abre_conexao()\n",
    "#     cursor.execute(sql)\n",
    "#     resultado = cursor.fetchall()\n",
    "#     fecha_conexao(conexao, cursor)\n",
    "    \n",
    "#     return resultado\n",
    "# def exclui_esquema(esquema):\n",
    "    \n",
    "#     conexao, cursor = abre_conexao()\n",
    "#     cursor.execute(f\"DROP SCHEMA IF EXISTS {esquema} CASCADE;\")\n",
    "#     conexao.commit()\n",
    "#     cursor.close()\n",
    "#     fecha_conexao(conexao, cursor)"
   ]
  },
  {
   "cell_type": "code",
   "execution_count": null,
   "id": "09fec4d5",
   "metadata": {},
   "outputs": [],
   "source": [
    "# # Exemplo de consulta\n",
    "# consulta = \"SELECT * FROM rodoviario.MUNICIPIO\"\n",
    "# resultados = executa_consulta(consulta)\n",
    "\n",
    "# # Exibir os resultados\n",
    "# for resultado in resultados:\n",
    "#     print(resultado)\n",
    "    \n",
    "# # # Executar a instrução SQL para criar o esquema\n",
    "# create_schema_query = f\"CREATE SCHEMA oioioi;\"\n",
    "# cria_esquema(create_schema_query)"
   ]
  }
 ],
 "metadata": {
  "kernelspec": {
   "display_name": "Python 3 (ipykernel)",
   "language": "python",
   "name": "python3"
  },
  "language_info": {
   "codemirror_mode": {
    "name": "ipython",
    "version": 3
   },
   "file_extension": ".py",
   "mimetype": "text/x-python",
   "name": "python",
   "nbconvert_exporter": "python",
   "pygments_lexer": "ipython3",
   "version": "3.10.9"
  }
 },
 "nbformat": 4,
 "nbformat_minor": 5
}
